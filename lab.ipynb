{
 "cells": [
  {
   "cell_type": "markdown",
   "metadata": {},
   "source": [
    "## Lab | Random Forests"
   ]
  },
  {
   "cell_type": "markdown",
   "metadata": {},
   "source": [
    "#### Importing libraries"
   ]
  },
  {
   "cell_type": "code",
   "execution_count": 1,
   "metadata": {},
   "outputs": [],
   "source": [
    "import pandas as pd\n",
    "import numpy as np\n",
    "import datetime\n",
    "import warnings\n",
    "import matplotlib.pyplot as plt\n",
    "import seaborn as sns\n",
    "from sklearn.preprocessing import StandardScaler\n",
    "from sklearn.model_selection import train_test_split\n",
    "from sklearn.ensemble import RandomForestRegressor\n",
    "from sklearn.model_selection import cross_val_score\n",
    "from sklearn.tree import plot_tree\n",
    "from imblearn.over_sampling import SMOTE\n",
    "\n",
    "warnings.filterwarnings('ignore')"
   ]
  },
  {
   "cell_type": "markdown",
   "metadata": {},
   "source": [
    "* Apply the Random Forests algorithm but this time only by upscaling the data using SMOTE.\n",
    "* Note that since SMOTE works on numerical data only, we will first encode the categorical variables in this case."
   ]
  },
  {
   "cell_type": "code",
   "execution_count": 2,
   "metadata": {},
   "outputs": [],
   "source": [
    "categorical = pd.read_csv('files_for_lab/categorical.csv')\n",
    "numeric = pd.read_csv('files_for_lab/numerical.csv')\n",
    "target = pd.read_csv('files_for_lab/target.csv') \n"
   ]
  },
  {
   "cell_type": "markdown",
   "metadata": {},
   "source": [
    "#### EDA"
   ]
  },
  {
   "cell_type": "code",
   "execution_count": 3,
   "metadata": {},
   "outputs": [
    {
     "name": "stdout",
     "output_type": "stream",
     "text": [
      "The categorical dataframe has 95412 rows and 22 columns\n",
      "The numerical dataframe has 95412 rows and 315 columns\n",
      "The target has 95412 rows\n"
     ]
    }
   ],
   "source": [
    "print(f'The categorical dataframe has {categorical.shape[0]} rows and {categorical.shape[1]} columns')\n",
    "print(f'The numerical dataframe has {numeric.shape[0]} rows and {numeric.shape[1]} columns')\n",
    "print(f'The target has {categorical.shape[0]} rows')"
   ]
  },
  {
   "cell_type": "markdown",
   "metadata": {},
   "source": [
    "Categorical dataframe"
   ]
  },
  {
   "cell_type": "code",
   "execution_count": 4,
   "metadata": {},
   "outputs": [
    {
     "data": {
      "text/plain": [
       "STATE           0\n",
       "CLUSTER         0\n",
       "HOMEOWNR        0\n",
       "GENDER          0\n",
       "DATASRCE        0\n",
       "RFA_2R          0\n",
       "RFA_2A          0\n",
       "GEOCODE2        0\n",
       "DOMAIN_A        0\n",
       "DOMAIN_B        0\n",
       "ODATEW_YR       0\n",
       "ODATEW_MM       0\n",
       "DOB_YR          0\n",
       "DOB_MM          0\n",
       "MINRDATE_YR     0\n",
       "MINRDATE_MM     0\n",
       "MAXRDATE_YR     0\n",
       "MAXRDATE_MM     0\n",
       "LASTDATE_YR     0\n",
       "LASTDATE_MM     0\n",
       "FIRSTDATE_YR    0\n",
       "FIRSTDATE_MM    0\n",
       "dtype: int64"
      ]
     },
     "execution_count": 4,
     "metadata": {},
     "output_type": "execute_result"
    }
   ],
   "source": [
    "categorical.isna().sum()"
   ]
  },
  {
   "cell_type": "code",
   "execution_count": 5,
   "metadata": {},
   "outputs": [
    {
     "data": {
      "text/plain": [
       "STATE           object\n",
       "CLUSTER          int64\n",
       "HOMEOWNR        object\n",
       "GENDER          object\n",
       "DATASRCE         int64\n",
       "RFA_2R          object\n",
       "RFA_2A          object\n",
       "GEOCODE2        object\n",
       "DOMAIN_A        object\n",
       "DOMAIN_B         int64\n",
       "ODATEW_YR        int64\n",
       "ODATEW_MM        int64\n",
       "DOB_YR           int64\n",
       "DOB_MM           int64\n",
       "MINRDATE_YR      int64\n",
       "MINRDATE_MM      int64\n",
       "MAXRDATE_YR      int64\n",
       "MAXRDATE_MM      int64\n",
       "LASTDATE_YR      int64\n",
       "LASTDATE_MM      int64\n",
       "FIRSTDATE_YR     int64\n",
       "FIRSTDATE_MM     int64\n",
       "dtype: object"
      ]
     },
     "execution_count": 5,
     "metadata": {},
     "output_type": "execute_result"
    }
   ],
   "source": [
    "categorical.dtypes"
   ]
  },
  {
   "cell_type": "markdown",
   "metadata": {},
   "source": [
    "The categorical dataframe is not very categorical in nature, it has many numeric values."
   ]
  },
  {
   "cell_type": "code",
   "execution_count": 6,
   "metadata": {},
   "outputs": [
    {
     "data": {
      "text/plain": [
       "Index(['CLUSTER', 'DATASRCE', 'DOMAIN_B', 'ODATEW_YR', 'ODATEW_MM', 'DOB_YR',\n",
       "       'DOB_MM', 'MINRDATE_YR', 'MINRDATE_MM', 'MAXRDATE_YR', 'MAXRDATE_MM',\n",
       "       'LASTDATE_YR', 'LASTDATE_MM', 'FIRSTDATE_YR', 'FIRSTDATE_MM'],\n",
       "      dtype='object')"
      ]
     },
     "execution_count": 6,
     "metadata": {},
     "output_type": "execute_result"
    }
   ],
   "source": [
    "categorical.select_dtypes(include='number').columns"
   ]
  },
  {
   "cell_type": "code",
   "execution_count": 7,
   "metadata": {},
   "outputs": [
    {
     "data": {
      "text/plain": [
       "(95412, 330)"
      ]
     },
     "execution_count": 7,
     "metadata": {},
     "output_type": "execute_result"
    }
   ],
   "source": [
    "num_c = categorical.select_dtypes(include='number')\n",
    "numeric = pd.merge(numeric, num_c, left_index=True, right_index=True)\n",
    "numeric.shape"
   ]
  },
  {
   "cell_type": "code",
   "execution_count": 8,
   "metadata": {},
   "outputs": [
    {
     "data": {
      "text/plain": [
       "True"
      ]
     },
     "execution_count": 8,
     "metadata": {},
     "output_type": "execute_result"
    }
   ],
   "source": [
    "len(numeric.dtypes) == len(numeric.select_dtypes(include='number').columns) # to check if the number of numeric columns in teh dataframe is the same as the length of the dataframe"
   ]
  },
  {
   "cell_type": "code",
   "execution_count": 9,
   "metadata": {},
   "outputs": [
    {
     "data": {
      "text/plain": [
       "Index(['CLUSTER', 'DATASRCE', 'DOMAIN_B', 'ODATEW_YR', 'ODATEW_MM', 'DOB_YR',\n",
       "       'DOB_MM', 'MINRDATE_YR', 'MINRDATE_MM', 'MAXRDATE_YR', 'MAXRDATE_MM',\n",
       "       'LASTDATE_YR', 'LASTDATE_MM', 'FIRSTDATE_YR', 'FIRSTDATE_MM'],\n",
       "      dtype='object')"
      ]
     },
     "execution_count": 9,
     "metadata": {},
     "output_type": "execute_result"
    }
   ],
   "source": [
    "cat_to_drop = categorical.select_dtypes(include='number')\n",
    "cat_to_drop.columns\n"
   ]
  },
  {
   "cell_type": "code",
   "execution_count": 10,
   "metadata": {},
   "outputs": [
    {
     "data": {
      "text/html": [
       "<div>\n",
       "<style scoped>\n",
       "    .dataframe tbody tr th:only-of-type {\n",
       "        vertical-align: middle;\n",
       "    }\n",
       "\n",
       "    .dataframe tbody tr th {\n",
       "        vertical-align: top;\n",
       "    }\n",
       "\n",
       "    .dataframe thead th {\n",
       "        text-align: right;\n",
       "    }\n",
       "</style>\n",
       "<table border=\"1\" class=\"dataframe\">\n",
       "  <thead>\n",
       "    <tr style=\"text-align: right;\">\n",
       "      <th></th>\n",
       "      <th>STATE</th>\n",
       "      <th>HOMEOWNR</th>\n",
       "      <th>GENDER</th>\n",
       "      <th>RFA_2R</th>\n",
       "      <th>RFA_2A</th>\n",
       "      <th>GEOCODE2</th>\n",
       "      <th>DOMAIN_A</th>\n",
       "    </tr>\n",
       "  </thead>\n",
       "  <tbody>\n",
       "    <tr>\n",
       "      <th>0</th>\n",
       "      <td>IL</td>\n",
       "      <td>H</td>\n",
       "      <td>F</td>\n",
       "      <td>L</td>\n",
       "      <td>E</td>\n",
       "      <td>C</td>\n",
       "      <td>T</td>\n",
       "    </tr>\n",
       "    <tr>\n",
       "      <th>1</th>\n",
       "      <td>CA</td>\n",
       "      <td>H</td>\n",
       "      <td>M</td>\n",
       "      <td>L</td>\n",
       "      <td>G</td>\n",
       "      <td>A</td>\n",
       "      <td>S</td>\n",
       "    </tr>\n",
       "    <tr>\n",
       "      <th>2</th>\n",
       "      <td>NC</td>\n",
       "      <td>U</td>\n",
       "      <td>M</td>\n",
       "      <td>L</td>\n",
       "      <td>E</td>\n",
       "      <td>C</td>\n",
       "      <td>R</td>\n",
       "    </tr>\n",
       "    <tr>\n",
       "      <th>3</th>\n",
       "      <td>CA</td>\n",
       "      <td>U</td>\n",
       "      <td>F</td>\n",
       "      <td>L</td>\n",
       "      <td>E</td>\n",
       "      <td>C</td>\n",
       "      <td>R</td>\n",
       "    </tr>\n",
       "    <tr>\n",
       "      <th>4</th>\n",
       "      <td>FL</td>\n",
       "      <td>H</td>\n",
       "      <td>F</td>\n",
       "      <td>L</td>\n",
       "      <td>F</td>\n",
       "      <td>A</td>\n",
       "      <td>S</td>\n",
       "    </tr>\n",
       "  </tbody>\n",
       "</table>\n",
       "</div>"
      ],
      "text/plain": [
       "  STATE HOMEOWNR GENDER RFA_2R RFA_2A GEOCODE2 DOMAIN_A\n",
       "0    IL        H      F      L      E        C        T\n",
       "1    CA        H      M      L      G        A        S\n",
       "2    NC        U      M      L      E        C        R\n",
       "3    CA        U      F      L      E        C        R\n",
       "4    FL        H      F      L      F        A        S"
      ]
     },
     "execution_count": 10,
     "metadata": {},
     "output_type": "execute_result"
    }
   ],
   "source": [
    "categorical = categorical.drop(['CLUSTER', 'DATASRCE', 'DOMAIN_B', 'ODATEW_YR', 'ODATEW_MM', 'DOB_YR', 'DOB_MM', 'MINRDATE_YR', 'MINRDATE_MM', 'MAXRDATE_YR', 'MAXRDATE_MM','LASTDATE_YR', 'LASTDATE_MM', 'FIRSTDATE_YR', 'FIRSTDATE_MM'], axis = 1)\n",
    "categorical.head()"
   ]
  },
  {
   "cell_type": "code",
   "execution_count": 11,
   "metadata": {},
   "outputs": [
    {
     "name": "stdout",
     "output_type": "stream",
     "text": [
      "['IL', 'CA', 'NC', 'FL', 'other', 'IN', 'MI', 'MO', 'TX', 'WA', 'WI', 'GA']\n",
      "['H', 'U']\n",
      "['F', 'M', 'other']\n",
      "['L']\n",
      "['E', 'G', 'F', 'D']\n",
      "['C', 'A', 'D', 'B']\n",
      "['T', 'S', 'R', 'U', 'C']\n"
     ]
    }
   ],
   "source": [
    "# a function to check the uniqu values in a dataframe\n",
    "def check_unique_values(df):\n",
    "    for col in df:\n",
    "        print(list(df[col].unique()))\n",
    "\n",
    "check_unique_values(categorical)"
   ]
  },
  {
   "cell_type": "markdown",
   "metadata": {},
   "source": [
    "#### Encoding categoricals"
   ]
  },
  {
   "cell_type": "code",
   "execution_count": 12,
   "metadata": {},
   "outputs": [
    {
     "data": {
      "text/html": [
       "<div>\n",
       "<style scoped>\n",
       "    .dataframe tbody tr th:only-of-type {\n",
       "        vertical-align: middle;\n",
       "    }\n",
       "\n",
       "    .dataframe tbody tr th {\n",
       "        vertical-align: top;\n",
       "    }\n",
       "\n",
       "    .dataframe thead th {\n",
       "        text-align: right;\n",
       "    }\n",
       "</style>\n",
       "<table border=\"1\" class=\"dataframe\">\n",
       "  <thead>\n",
       "    <tr style=\"text-align: right;\">\n",
       "      <th></th>\n",
       "      <th>STATE_CA</th>\n",
       "      <th>STATE_FL</th>\n",
       "      <th>STATE_GA</th>\n",
       "      <th>STATE_IL</th>\n",
       "      <th>STATE_IN</th>\n",
       "      <th>STATE_MI</th>\n",
       "      <th>STATE_MO</th>\n",
       "      <th>STATE_NC</th>\n",
       "      <th>STATE_TX</th>\n",
       "      <th>STATE_WA</th>\n",
       "      <th>...</th>\n",
       "      <th>RFA_2A_G</th>\n",
       "      <th>GEOCODE2_A</th>\n",
       "      <th>GEOCODE2_B</th>\n",
       "      <th>GEOCODE2_C</th>\n",
       "      <th>GEOCODE2_D</th>\n",
       "      <th>DOMAIN_A_C</th>\n",
       "      <th>DOMAIN_A_R</th>\n",
       "      <th>DOMAIN_A_S</th>\n",
       "      <th>DOMAIN_A_T</th>\n",
       "      <th>DOMAIN_A_U</th>\n",
       "    </tr>\n",
       "  </thead>\n",
       "  <tbody>\n",
       "    <tr>\n",
       "      <th>0</th>\n",
       "      <td>0</td>\n",
       "      <td>0</td>\n",
       "      <td>0</td>\n",
       "      <td>1</td>\n",
       "      <td>0</td>\n",
       "      <td>0</td>\n",
       "      <td>0</td>\n",
       "      <td>0</td>\n",
       "      <td>0</td>\n",
       "      <td>0</td>\n",
       "      <td>...</td>\n",
       "      <td>0</td>\n",
       "      <td>0</td>\n",
       "      <td>0</td>\n",
       "      <td>1</td>\n",
       "      <td>0</td>\n",
       "      <td>0</td>\n",
       "      <td>0</td>\n",
       "      <td>0</td>\n",
       "      <td>1</td>\n",
       "      <td>0</td>\n",
       "    </tr>\n",
       "    <tr>\n",
       "      <th>1</th>\n",
       "      <td>1</td>\n",
       "      <td>0</td>\n",
       "      <td>0</td>\n",
       "      <td>0</td>\n",
       "      <td>0</td>\n",
       "      <td>0</td>\n",
       "      <td>0</td>\n",
       "      <td>0</td>\n",
       "      <td>0</td>\n",
       "      <td>0</td>\n",
       "      <td>...</td>\n",
       "      <td>1</td>\n",
       "      <td>1</td>\n",
       "      <td>0</td>\n",
       "      <td>0</td>\n",
       "      <td>0</td>\n",
       "      <td>0</td>\n",
       "      <td>0</td>\n",
       "      <td>1</td>\n",
       "      <td>0</td>\n",
       "      <td>0</td>\n",
       "    </tr>\n",
       "    <tr>\n",
       "      <th>2</th>\n",
       "      <td>0</td>\n",
       "      <td>0</td>\n",
       "      <td>0</td>\n",
       "      <td>0</td>\n",
       "      <td>0</td>\n",
       "      <td>0</td>\n",
       "      <td>0</td>\n",
       "      <td>1</td>\n",
       "      <td>0</td>\n",
       "      <td>0</td>\n",
       "      <td>...</td>\n",
       "      <td>0</td>\n",
       "      <td>0</td>\n",
       "      <td>0</td>\n",
       "      <td>1</td>\n",
       "      <td>0</td>\n",
       "      <td>0</td>\n",
       "      <td>1</td>\n",
       "      <td>0</td>\n",
       "      <td>0</td>\n",
       "      <td>0</td>\n",
       "    </tr>\n",
       "    <tr>\n",
       "      <th>3</th>\n",
       "      <td>1</td>\n",
       "      <td>0</td>\n",
       "      <td>0</td>\n",
       "      <td>0</td>\n",
       "      <td>0</td>\n",
       "      <td>0</td>\n",
       "      <td>0</td>\n",
       "      <td>0</td>\n",
       "      <td>0</td>\n",
       "      <td>0</td>\n",
       "      <td>...</td>\n",
       "      <td>0</td>\n",
       "      <td>0</td>\n",
       "      <td>0</td>\n",
       "      <td>1</td>\n",
       "      <td>0</td>\n",
       "      <td>0</td>\n",
       "      <td>1</td>\n",
       "      <td>0</td>\n",
       "      <td>0</td>\n",
       "      <td>0</td>\n",
       "    </tr>\n",
       "    <tr>\n",
       "      <th>4</th>\n",
       "      <td>0</td>\n",
       "      <td>1</td>\n",
       "      <td>0</td>\n",
       "      <td>0</td>\n",
       "      <td>0</td>\n",
       "      <td>0</td>\n",
       "      <td>0</td>\n",
       "      <td>0</td>\n",
       "      <td>0</td>\n",
       "      <td>0</td>\n",
       "      <td>...</td>\n",
       "      <td>0</td>\n",
       "      <td>1</td>\n",
       "      <td>0</td>\n",
       "      <td>0</td>\n",
       "      <td>0</td>\n",
       "      <td>0</td>\n",
       "      <td>0</td>\n",
       "      <td>1</td>\n",
       "      <td>0</td>\n",
       "      <td>0</td>\n",
       "    </tr>\n",
       "  </tbody>\n",
       "</table>\n",
       "<p>5 rows × 31 columns</p>\n",
       "</div>"
      ],
      "text/plain": [
       "   STATE_CA  STATE_FL  STATE_GA  STATE_IL  STATE_IN  STATE_MI  STATE_MO  \\\n",
       "0         0         0         0         1         0         0         0   \n",
       "1         1         0         0         0         0         0         0   \n",
       "2         0         0         0         0         0         0         0   \n",
       "3         1         0         0         0         0         0         0   \n",
       "4         0         1         0         0         0         0         0   \n",
       "\n",
       "   STATE_NC  STATE_TX  STATE_WA  ...  RFA_2A_G  GEOCODE2_A  GEOCODE2_B  \\\n",
       "0         0         0         0  ...         0           0           0   \n",
       "1         0         0         0  ...         1           1           0   \n",
       "2         1         0         0  ...         0           0           0   \n",
       "3         0         0         0  ...         0           0           0   \n",
       "4         0         0         0  ...         0           1           0   \n",
       "\n",
       "   GEOCODE2_C  GEOCODE2_D  DOMAIN_A_C  DOMAIN_A_R  DOMAIN_A_S  DOMAIN_A_T  \\\n",
       "0           1           0           0           0           0           1   \n",
       "1           0           0           0           0           1           0   \n",
       "2           1           0           0           1           0           0   \n",
       "3           1           0           0           1           0           0   \n",
       "4           0           0           0           0           1           0   \n",
       "\n",
       "   DOMAIN_A_U  \n",
       "0           0  \n",
       "1           0  \n",
       "2           0  \n",
       "3           0  \n",
       "4           0  \n",
       "\n",
       "[5 rows x 31 columns]"
      ]
     },
     "execution_count": 12,
     "metadata": {},
     "output_type": "execute_result"
    }
   ],
   "source": [
    "cat = pd.get_dummies(categorical, drop_first = False) # then we encode the remaining categorical columns\n",
    "cat.head()"
   ]
  },
  {
   "cell_type": "code",
   "execution_count": 13,
   "metadata": {},
   "outputs": [
    {
     "data": {
      "text/plain": [
       "True"
      ]
     },
     "execution_count": 13,
     "metadata": {},
     "output_type": "execute_result"
    }
   ],
   "source": [
    "len(cat) == len(numeric)"
   ]
  },
  {
   "cell_type": "code",
   "execution_count": 14,
   "metadata": {},
   "outputs": [
    {
     "data": {
      "text/html": [
       "<div>\n",
       "<style scoped>\n",
       "    .dataframe tbody tr th:only-of-type {\n",
       "        vertical-align: middle;\n",
       "    }\n",
       "\n",
       "    .dataframe tbody tr th {\n",
       "        vertical-align: top;\n",
       "    }\n",
       "\n",
       "    .dataframe thead th {\n",
       "        text-align: right;\n",
       "    }\n",
       "</style>\n",
       "<table border=\"1\" class=\"dataframe\">\n",
       "  <thead>\n",
       "    <tr style=\"text-align: right;\">\n",
       "      <th></th>\n",
       "      <th>TCODE</th>\n",
       "      <th>AGE</th>\n",
       "      <th>INCOME</th>\n",
       "      <th>WEALTH1</th>\n",
       "      <th>HIT</th>\n",
       "      <th>MALEMILI</th>\n",
       "      <th>MALEVET</th>\n",
       "      <th>VIETVETS</th>\n",
       "      <th>WWIIVETS</th>\n",
       "      <th>LOCALGOV</th>\n",
       "      <th>...</th>\n",
       "      <th>DOB_YR</th>\n",
       "      <th>DOB_MM</th>\n",
       "      <th>MINRDATE_YR</th>\n",
       "      <th>MINRDATE_MM</th>\n",
       "      <th>MAXRDATE_YR</th>\n",
       "      <th>MAXRDATE_MM</th>\n",
       "      <th>LASTDATE_YR</th>\n",
       "      <th>LASTDATE_MM</th>\n",
       "      <th>FIRSTDATE_YR</th>\n",
       "      <th>FIRSTDATE_MM</th>\n",
       "    </tr>\n",
       "  </thead>\n",
       "  <tbody>\n",
       "    <tr>\n",
       "      <th>0</th>\n",
       "      <td>-0.056847</td>\n",
       "      <td>-1.115292e-01</td>\n",
       "      <td>0.509147</td>\n",
       "      <td>0.717411</td>\n",
       "      <td>-0.356881</td>\n",
       "      <td>-0.206977</td>\n",
       "      <td>0.745798</td>\n",
       "      <td>0.284659</td>\n",
       "      <td>-0.826571</td>\n",
       "      <td>0.719013</td>\n",
       "      <td>...</td>\n",
       "      <td>0.370442</td>\n",
       "      <td>3.012879</td>\n",
       "      <td>-0.172698</td>\n",
       "      <td>0.419080</td>\n",
       "      <td>-0.201169</td>\n",
       "      <td>-1.236357</td>\n",
       "      <td>-0.789204</td>\n",
       "      <td>1.257673</td>\n",
       "      <td>-0.714736</td>\n",
       "      <td>1.237697</td>\n",
       "    </tr>\n",
       "    <tr>\n",
       "      <th>1</th>\n",
       "      <td>-0.055799</td>\n",
       "      <td>-1.080356e+00</td>\n",
       "      <td>1.097566</td>\n",
       "      <td>0.717411</td>\n",
       "      <td>1.362283</td>\n",
       "      <td>-0.206977</td>\n",
       "      <td>-1.346527</td>\n",
       "      <td>1.675602</td>\n",
       "      <td>-1.221851</td>\n",
       "      <td>-0.191801</td>\n",
       "      <td>...</td>\n",
       "      <td>1.049599</td>\n",
       "      <td>-0.290923</td>\n",
       "      <td>0.200433</td>\n",
       "      <td>0.932504</td>\n",
       "      <td>0.374914</td>\n",
       "      <td>1.266242</td>\n",
       "      <td>-0.789204</td>\n",
       "      <td>1.257673</td>\n",
       "      <td>0.530642</td>\n",
       "      <td>0.985761</td>\n",
       "    </tr>\n",
       "    <tr>\n",
       "      <th>2</th>\n",
       "      <td>-0.055799</td>\n",
       "      <td>1.267017e-10</td>\n",
       "      <td>-0.667692</td>\n",
       "      <td>-2.239375</td>\n",
       "      <td>-0.141985</td>\n",
       "      <td>-0.206977</td>\n",
       "      <td>-0.910626</td>\n",
       "      <td>-0.046518</td>\n",
       "      <td>0.020458</td>\n",
       "      <td>-0.191801</td>\n",
       "      <td>...</td>\n",
       "      <td>-1.304814</td>\n",
       "      <td>-0.290923</td>\n",
       "      <td>-0.545828</td>\n",
       "      <td>1.189216</td>\n",
       "      <td>-1.353334</td>\n",
       "      <td>0.014943</td>\n",
       "      <td>-0.789204</td>\n",
       "      <td>1.257673</td>\n",
       "      <td>-0.403392</td>\n",
       "      <td>-1.281661</td>\n",
       "    </tr>\n",
       "    <tr>\n",
       "      <th>3</th>\n",
       "      <td>-0.056847</td>\n",
       "      <td>5.804901e-01</td>\n",
       "      <td>-1.844530</td>\n",
       "      <td>-1.130581</td>\n",
       "      <td>-0.141985</td>\n",
       "      <td>-0.206977</td>\n",
       "      <td>-0.649086</td>\n",
       "      <td>-1.040049</td>\n",
       "      <td>-0.092480</td>\n",
       "      <td>-0.874911</td>\n",
       "      <td>...</td>\n",
       "      <td>-0.037053</td>\n",
       "      <td>-0.621303</td>\n",
       "      <td>-2.038350</td>\n",
       "      <td>1.189216</td>\n",
       "      <td>-0.201169</td>\n",
       "      <td>1.015982</td>\n",
       "      <td>-0.789204</td>\n",
       "      <td>1.257673</td>\n",
       "      <td>-1.337425</td>\n",
       "      <td>-1.029725</td>\n",
       "    </tr>\n",
       "    <tr>\n",
       "      <th>4</th>\n",
       "      <td>-0.056847</td>\n",
       "      <td>1.134106e+00</td>\n",
       "      <td>-0.667692</td>\n",
       "      <td>-1.869777</td>\n",
       "      <td>6.089983</td>\n",
       "      <td>-0.009563</td>\n",
       "      <td>-0.213185</td>\n",
       "      <td>-1.371225</td>\n",
       "      <td>1.149829</td>\n",
       "      <td>4.362269</td>\n",
       "      <td>...</td>\n",
       "      <td>-0.399270</td>\n",
       "      <td>-0.621303</td>\n",
       "      <td>0.200433</td>\n",
       "      <td>0.932504</td>\n",
       "      <td>0.950996</td>\n",
       "      <td>-1.486617</td>\n",
       "      <td>1.115522</td>\n",
       "      <td>-1.336135</td>\n",
       "      <td>-3.828181</td>\n",
       "      <td>-0.777790</td>\n",
       "    </tr>\n",
       "  </tbody>\n",
       "</table>\n",
       "<p>5 rows × 330 columns</p>\n",
       "</div>"
      ],
      "text/plain": [
       "      TCODE           AGE    INCOME   WEALTH1       HIT  MALEMILI   MALEVET  \\\n",
       "0 -0.056847 -1.115292e-01  0.509147  0.717411 -0.356881 -0.206977  0.745798   \n",
       "1 -0.055799 -1.080356e+00  1.097566  0.717411  1.362283 -0.206977 -1.346527   \n",
       "2 -0.055799  1.267017e-10 -0.667692 -2.239375 -0.141985 -0.206977 -0.910626   \n",
       "3 -0.056847  5.804901e-01 -1.844530 -1.130581 -0.141985 -0.206977 -0.649086   \n",
       "4 -0.056847  1.134106e+00 -0.667692 -1.869777  6.089983 -0.009563 -0.213185   \n",
       "\n",
       "   VIETVETS  WWIIVETS  LOCALGOV  ...    DOB_YR    DOB_MM  MINRDATE_YR  \\\n",
       "0  0.284659 -0.826571  0.719013  ...  0.370442  3.012879    -0.172698   \n",
       "1  1.675602 -1.221851 -0.191801  ...  1.049599 -0.290923     0.200433   \n",
       "2 -0.046518  0.020458 -0.191801  ... -1.304814 -0.290923    -0.545828   \n",
       "3 -1.040049 -0.092480 -0.874911  ... -0.037053 -0.621303    -2.038350   \n",
       "4 -1.371225  1.149829  4.362269  ... -0.399270 -0.621303     0.200433   \n",
       "\n",
       "   MINRDATE_MM  MAXRDATE_YR  MAXRDATE_MM  LASTDATE_YR  LASTDATE_MM  \\\n",
       "0     0.419080    -0.201169    -1.236357    -0.789204     1.257673   \n",
       "1     0.932504     0.374914     1.266242    -0.789204     1.257673   \n",
       "2     1.189216    -1.353334     0.014943    -0.789204     1.257673   \n",
       "3     1.189216    -0.201169     1.015982    -0.789204     1.257673   \n",
       "4     0.932504     0.950996    -1.486617     1.115522    -1.336135   \n",
       "\n",
       "   FIRSTDATE_YR  FIRSTDATE_MM  \n",
       "0     -0.714736      1.237697  \n",
       "1      0.530642      0.985761  \n",
       "2     -0.403392     -1.281661  \n",
       "3     -1.337425     -1.029725  \n",
       "4     -3.828181     -0.777790  \n",
       "\n",
       "[5 rows x 330 columns]"
      ]
     },
     "execution_count": 14,
     "metadata": {},
     "output_type": "execute_result"
    }
   ],
   "source": [
    "## Standardizing numericals\n",
    "transformer = StandardScaler().fit(numeric)\n",
    "num_standard = transformer.transform(numeric)\n",
    "num_standard = pd.DataFrame(num_standard, index = numeric.index, columns = numeric.columns.tolist())\n",
    "num_standard.head()"
   ]
  },
  {
   "cell_type": "code",
   "execution_count": 15,
   "metadata": {},
   "outputs": [
    {
     "data": {
      "text/html": [
       "<div>\n",
       "<style scoped>\n",
       "    .dataframe tbody tr th:only-of-type {\n",
       "        vertical-align: middle;\n",
       "    }\n",
       "\n",
       "    .dataframe tbody tr th {\n",
       "        vertical-align: top;\n",
       "    }\n",
       "\n",
       "    .dataframe thead th {\n",
       "        text-align: right;\n",
       "    }\n",
       "</style>\n",
       "<table border=\"1\" class=\"dataframe\">\n",
       "  <thead>\n",
       "    <tr style=\"text-align: right;\">\n",
       "      <th></th>\n",
       "      <th>TCODE</th>\n",
       "      <th>AGE</th>\n",
       "      <th>INCOME</th>\n",
       "      <th>WEALTH1</th>\n",
       "      <th>HIT</th>\n",
       "      <th>MALEMILI</th>\n",
       "      <th>MALEVET</th>\n",
       "      <th>VIETVETS</th>\n",
       "      <th>WWIIVETS</th>\n",
       "      <th>LOCALGOV</th>\n",
       "      <th>...</th>\n",
       "      <th>RFA_2A_G</th>\n",
       "      <th>GEOCODE2_A</th>\n",
       "      <th>GEOCODE2_B</th>\n",
       "      <th>GEOCODE2_C</th>\n",
       "      <th>GEOCODE2_D</th>\n",
       "      <th>DOMAIN_A_C</th>\n",
       "      <th>DOMAIN_A_R</th>\n",
       "      <th>DOMAIN_A_S</th>\n",
       "      <th>DOMAIN_A_T</th>\n",
       "      <th>DOMAIN_A_U</th>\n",
       "    </tr>\n",
       "  </thead>\n",
       "  <tbody>\n",
       "    <tr>\n",
       "      <th>0</th>\n",
       "      <td>-0.056847</td>\n",
       "      <td>-1.115292e-01</td>\n",
       "      <td>0.509147</td>\n",
       "      <td>0.717411</td>\n",
       "      <td>-0.356881</td>\n",
       "      <td>-0.206977</td>\n",
       "      <td>0.745798</td>\n",
       "      <td>0.284659</td>\n",
       "      <td>-0.826571</td>\n",
       "      <td>0.719013</td>\n",
       "      <td>...</td>\n",
       "      <td>0</td>\n",
       "      <td>0</td>\n",
       "      <td>0</td>\n",
       "      <td>1</td>\n",
       "      <td>0</td>\n",
       "      <td>0</td>\n",
       "      <td>0</td>\n",
       "      <td>0</td>\n",
       "      <td>1</td>\n",
       "      <td>0</td>\n",
       "    </tr>\n",
       "    <tr>\n",
       "      <th>1</th>\n",
       "      <td>-0.055799</td>\n",
       "      <td>-1.080356e+00</td>\n",
       "      <td>1.097566</td>\n",
       "      <td>0.717411</td>\n",
       "      <td>1.362283</td>\n",
       "      <td>-0.206977</td>\n",
       "      <td>-1.346527</td>\n",
       "      <td>1.675602</td>\n",
       "      <td>-1.221851</td>\n",
       "      <td>-0.191801</td>\n",
       "      <td>...</td>\n",
       "      <td>1</td>\n",
       "      <td>1</td>\n",
       "      <td>0</td>\n",
       "      <td>0</td>\n",
       "      <td>0</td>\n",
       "      <td>0</td>\n",
       "      <td>0</td>\n",
       "      <td>1</td>\n",
       "      <td>0</td>\n",
       "      <td>0</td>\n",
       "    </tr>\n",
       "    <tr>\n",
       "      <th>2</th>\n",
       "      <td>-0.055799</td>\n",
       "      <td>1.267017e-10</td>\n",
       "      <td>-0.667692</td>\n",
       "      <td>-2.239375</td>\n",
       "      <td>-0.141985</td>\n",
       "      <td>-0.206977</td>\n",
       "      <td>-0.910626</td>\n",
       "      <td>-0.046518</td>\n",
       "      <td>0.020458</td>\n",
       "      <td>-0.191801</td>\n",
       "      <td>...</td>\n",
       "      <td>0</td>\n",
       "      <td>0</td>\n",
       "      <td>0</td>\n",
       "      <td>1</td>\n",
       "      <td>0</td>\n",
       "      <td>0</td>\n",
       "      <td>1</td>\n",
       "      <td>0</td>\n",
       "      <td>0</td>\n",
       "      <td>0</td>\n",
       "    </tr>\n",
       "    <tr>\n",
       "      <th>3</th>\n",
       "      <td>-0.056847</td>\n",
       "      <td>5.804901e-01</td>\n",
       "      <td>-1.844530</td>\n",
       "      <td>-1.130581</td>\n",
       "      <td>-0.141985</td>\n",
       "      <td>-0.206977</td>\n",
       "      <td>-0.649086</td>\n",
       "      <td>-1.040049</td>\n",
       "      <td>-0.092480</td>\n",
       "      <td>-0.874911</td>\n",
       "      <td>...</td>\n",
       "      <td>0</td>\n",
       "      <td>0</td>\n",
       "      <td>0</td>\n",
       "      <td>1</td>\n",
       "      <td>0</td>\n",
       "      <td>0</td>\n",
       "      <td>1</td>\n",
       "      <td>0</td>\n",
       "      <td>0</td>\n",
       "      <td>0</td>\n",
       "    </tr>\n",
       "    <tr>\n",
       "      <th>4</th>\n",
       "      <td>-0.056847</td>\n",
       "      <td>1.134106e+00</td>\n",
       "      <td>-0.667692</td>\n",
       "      <td>-1.869777</td>\n",
       "      <td>6.089983</td>\n",
       "      <td>-0.009563</td>\n",
       "      <td>-0.213185</td>\n",
       "      <td>-1.371225</td>\n",
       "      <td>1.149829</td>\n",
       "      <td>4.362269</td>\n",
       "      <td>...</td>\n",
       "      <td>0</td>\n",
       "      <td>1</td>\n",
       "      <td>0</td>\n",
       "      <td>0</td>\n",
       "      <td>0</td>\n",
       "      <td>0</td>\n",
       "      <td>0</td>\n",
       "      <td>1</td>\n",
       "      <td>0</td>\n",
       "      <td>0</td>\n",
       "    </tr>\n",
       "  </tbody>\n",
       "</table>\n",
       "<p>5 rows × 361 columns</p>\n",
       "</div>"
      ],
      "text/plain": [
       "      TCODE           AGE    INCOME   WEALTH1       HIT  MALEMILI   MALEVET  \\\n",
       "0 -0.056847 -1.115292e-01  0.509147  0.717411 -0.356881 -0.206977  0.745798   \n",
       "1 -0.055799 -1.080356e+00  1.097566  0.717411  1.362283 -0.206977 -1.346527   \n",
       "2 -0.055799  1.267017e-10 -0.667692 -2.239375 -0.141985 -0.206977 -0.910626   \n",
       "3 -0.056847  5.804901e-01 -1.844530 -1.130581 -0.141985 -0.206977 -0.649086   \n",
       "4 -0.056847  1.134106e+00 -0.667692 -1.869777  6.089983 -0.009563 -0.213185   \n",
       "\n",
       "   VIETVETS  WWIIVETS  LOCALGOV  ...  RFA_2A_G  GEOCODE2_A  GEOCODE2_B  \\\n",
       "0  0.284659 -0.826571  0.719013  ...         0           0           0   \n",
       "1  1.675602 -1.221851 -0.191801  ...         1           1           0   \n",
       "2 -0.046518  0.020458 -0.191801  ...         0           0           0   \n",
       "3 -1.040049 -0.092480 -0.874911  ...         0           0           0   \n",
       "4 -1.371225  1.149829  4.362269  ...         0           1           0   \n",
       "\n",
       "   GEOCODE2_C  GEOCODE2_D  DOMAIN_A_C  DOMAIN_A_R  DOMAIN_A_S  DOMAIN_A_T  \\\n",
       "0           1           0           0           0           0           1   \n",
       "1           0           0           0           0           1           0   \n",
       "2           1           0           0           1           0           0   \n",
       "3           1           0           0           1           0           0   \n",
       "4           0           0           0           0           1           0   \n",
       "\n",
       "   DOMAIN_A_U  \n",
       "0           0  \n",
       "1           0  \n",
       "2           0  \n",
       "3           0  \n",
       "4           0  \n",
       "\n",
       "[5 rows x 361 columns]"
      ]
     },
     "execution_count": 15,
     "metadata": {},
     "output_type": "execute_result"
    }
   ],
   "source": [
    "full = pd.merge(num_standard, cat, left_index=True, right_index=True )\n",
    "full.head()"
   ]
  },
  {
   "cell_type": "code",
   "execution_count": 16,
   "metadata": {},
   "outputs": [
    {
     "data": {
      "text/plain": [
       "True"
      ]
     },
     "execution_count": 16,
     "metadata": {},
     "output_type": "execute_result"
    }
   ],
   "source": [
    "full.shape[0] == target.shape[0] # check if the full df is the same length as the target"
   ]
  },
  {
   "cell_type": "code",
   "execution_count": 17,
   "metadata": {},
   "outputs": [
    {
     "data": {
      "text/plain": [
       "0    90569\n",
       "1     4843\n",
       "Name: TARGET_B, dtype: int64"
      ]
     },
     "execution_count": 17,
     "metadata": {},
     "output_type": "execute_result"
    }
   ],
   "source": [
    "target['TARGET_B'].value_counts()"
   ]
  },
  {
   "cell_type": "markdown",
   "metadata": {},
   "source": [
    "#### Train/Test/Split"
   ]
  },
  {
   "cell_type": "code",
   "execution_count": 18,
   "metadata": {},
   "outputs": [],
   "source": [
    "X = full\n",
    "y = target['TARGET_B']\n",
    "\n",
    "X_train, X_test, y_train, y_test = train_test_split(X, y, test_size=0.3,random_state=42)\n"
   ]
  },
  {
   "cell_type": "markdown",
   "metadata": {},
   "source": [
    "#### SMOTE"
   ]
  },
  {
   "cell_type": "code",
   "execution_count": 19,
   "metadata": {},
   "outputs": [
    {
     "data": {
      "text/plain": [
       "0    63369\n",
       "1    63369\n",
       "Name: TARGET_B, dtype: int64"
      ]
     },
     "execution_count": 19,
     "metadata": {},
     "output_type": "execute_result"
    }
   ],
   "source": [
    "smote = SMOTE()\n",
    "\n",
    "X_sm, y_sm = smote.fit_resample(X_train, y_train) \n",
    "\n",
    "y_sm.value_counts()\n",
    "\n"
   ]
  },
  {
   "cell_type": "code",
   "execution_count": 20,
   "metadata": {},
   "outputs": [
    {
     "data": {
      "text/plain": [
       "0.8957245990893451"
      ]
     },
     "execution_count": 20,
     "metadata": {},
     "output_type": "execute_result"
    }
   ],
   "source": [
    "X_train, X_test, y_train, y_test = train_test_split(X_sm, y_sm, test_size=0.3,random_state=42)\n",
    "model = RandomForestRegressor(max_depth=None, random_state=42, bootstrap=True, n_jobs=-1)\n",
    "model.fit(X_train, y_train)\n",
    "model.score(X_test, y_test)"
   ]
  }
 ],
 "metadata": {
  "interpreter": {
   "hash": "de6d02862673e0564f6d6df867b7eb99ab93a1d61c9a69ec50d34d35a594fcdd"
  },
  "kernelspec": {
   "display_name": "Python 3.9.7 ('base')",
   "language": "python",
   "name": "python3"
  },
  "language_info": {
   "codemirror_mode": {
    "name": "ipython",
    "version": 3
   },
   "file_extension": ".py",
   "mimetype": "text/x-python",
   "name": "python",
   "nbconvert_exporter": "python",
   "pygments_lexer": "ipython3",
   "version": "3.9.7"
  },
  "orig_nbformat": 4
 },
 "nbformat": 4,
 "nbformat_minor": 2
}
